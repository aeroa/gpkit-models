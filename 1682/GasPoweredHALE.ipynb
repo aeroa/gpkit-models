{
 "cells": [
  {
   "cell_type": "code",
   "execution_count": 1,
   "metadata": {
    "collapsed": false,
    "scrolled": false
   },
   "outputs": [
    {
     "name": "stdout",
     "output_type": "stream",
     "text": [
      "Solving over 4 passes.\n",
      "Sweeping took 2.02 seconds.\n",
      "\n",
      "Cost\n",
      "----\n",
      " [ 1.47e+03  216       98.2      57.9      ] [lbf] \n",
      "\n",
      "Sweep Variables\n",
      "---------------\n",
      "wd_{cnst} : [ 0.002     0.002     0.0015    0.0015   ]  [m/ft/s] wind speed constant predited by model\n",
      "  wd_{ln} : [ 13        8.85      13        8.85     ]  [m/s]    linear wind speed variable           \n",
      "\n",
      "Free Variables\n",
      "--------------\n",
      "         C_D : [ 0.0395    0.0431    0.0447    0.0458   ]              Drag coefficient              \n",
      "         C_L : [ 1.01      1.04      1.06      1.06     ]              Lift coefficient              \n",
      "         C_f : [ 0.00431   0.00524   0.00568   0.00599  ]              wing skin friction coefficient\n",
      "   P_{shaft} : [ 1.37e+04  1.92e+03  821       435      ]  [W]         Shaft power                   \n",
      "          Re : [ 1.49e+06  5.61e+05  3.77e+05  2.88e+05 ]              Reynolds number               \n",
      "           S : [ 9.06      1.58      0.852     0.64     ]  [m**2]      Wing reference area           \n",
      "     T_{atm} : [ 258       258       258       258      ]  [K]         air temperature               \n",
      "      Thrust : [ 255       39.6      18.5      11.1     ]  [N]         Cruise thrust                 \n",
      "           V : [ 43        38.8      35.5      31.3     ]  [m/s]       Cruise velocity               \n",
      "    V_{wind} : [ 43        38.8      35.5      31.3     ]  [m/s]       wind speed                    \n",
      "           W : [ 1.47e+03  216       98.2      57.9     ]  [lbf]       Aircraft weight               \n",
      "W_{airframe} : [ 442       64.8      29.5      17.4     ]  [lbf]       Airframe weight               \n",
      "     W_{eng} : [ 20.1      2.82      1.3       1.3      ]  [lbf]       Engine weight                 \n",
      "    W_{fuel} : [ 1.01e+03  144       63.5      35.2     ]  [lbf]       Fuel Weight                   \n",
      "     W_{zfw} : [ 466       71.6      34.8      22.7     ]  [lbf]       Zero fuel weight              \n",
      "        \\rho : [ 0.771     0.771     0.771     0.771    ]  [kg/m**3]                                 \n",
      "           b : [ 44.2      18.5      13.5      11.7     ]  [ft]        span                          \n",
      "           h : [ 1.5e+04   1.5e+04   1.5e+04   1.5e+04  ]  [ft]        Altitude                      \n",
      "     n_{Rot} : [ 224       202       185       163      ]  [1/s]       Propeller rotation speed      \n",
      "          wl : [ 15.1      12.7      10.7      8.41     ]  [lbf/ft**2] wing loading                  \n",
      "       z_bre : [ 1.18      1.13      1.06      0.954    ]              breguet coefficient           \n",
      "\n",
      "Constants\n",
      "---------\n",
      "               A : 20                    aspect ratio                                   \n",
      "       C_{L-max} : 1.5                   maximum lift coefficient                       \n",
      "       C_{Power} : 0.2                   Power coefficient                              \n",
      "      C_{Thrust} : 0.5                   Thrust coefficient                             \n",
      "          C_{d0} : 0.01                  non-wing drag coefficient                      \n",
      "        D_{Prop} : 0.6        [m]        Propeller diameter                             \n",
      "        K_{wing} : 1.3                   wing form factor                               \n",
      "         L_{atm} : 0.0065     [K/m]      Temperature lapse rate                         \n",
      "         M_{atm} : 0.02896    [kg/mol]   Molar mass of dry air                          \n",
      "         R_{atm} : 8.314      [J/K/mol]                                                 \n",
      "       R_{earth} : 6371       [km]       Radius of earth                                \n",
      "          T_{sl} : 288.1      [K]        Temperature at sea level                       \n",
      "         W_{max} : 275        [lbf]      max engine weight                              \n",
      "         W_{min} : 1.3        [lbf]      min engine weight                              \n",
      "         W_{pay} : 4          [lbf]      Payload weight                                 \n",
      "          \\eta_0 : 0.2                   overall efficiency                             \n",
      "          \\eta_t : 0.75                  percent throttle                               \n",
      "     \\eta_{prop} : 0.8                   Propulsive efficiency                          \n",
      "             \\mu : 1.5e-05    [N*s/m**2] dynamic viscosity                              \n",
      "\\theta_{look-up} : 5                     look up angle                                  \n",
      "         cl_{16} : 0.0001                profile stall coefficient                      \n",
      "   d_{footprint} : 100        [km]       station keeping footprint diameter             \n",
      "               e : 0.9                   spanwise efficiency                            \n",
      "      eng_{cnst} : 0.0011                engine constant based off of power weight model\n",
      "    f_{airframe} : 0.3                   Airframe weight fraction                       \n",
      "               g : 9.81       [m/s**2]   Gravitational acceleration                     \n",
      "        h_{fuel} : 4.2e+07    [J/kg]     heat of combustion                             \n",
      "         h_{max} : 2.08e+04   [ft]       maximum height                                 \n",
      "         h_{min} : 1.18e+04   [ft]       minimum height                                 \n",
      "          p_{sl} : 1.013e+05  [Pa]       Pressure at sea level                          \n",
      "               t : 7          [day]      time on station                                \n",
      "\n",
      "Sensitivities\n",
      "-------------\n",
      "               t : [ 26.7      11.6      5.33      3.4      ]   time on station                                \n",
      "               g : [ 26.7      11.6      5.33      3.4      ]   Gravitational acceleration                     \n",
      "    f_{airframe} : [ 23.4      10        4.58      2.9      ]   Airframe weight fraction                       \n",
      "   d_{footprint} : [ 20.6      9.86      3.61      2.61     ]   station keeping footprint diameter             \n",
      "       wd_{cnst} : [ 19.4      9.27      3.38      2.44     ]   wind speed constant predited by model          \n",
      "\\theta_{look-up} : [ 19        9.09      3.33      2.4      ]   look up angle                                  \n",
      "        K_{wing} : [ 7.88      3.79      1.76      1.16     ]   wing form factor                               \n",
      "         wd_{ln} : [ 8.4       2.73      1.95      0.961    ]   linear wind speed variable                     \n",
      "          C_{d0} : [ 7.03      2.78      1.19      0.743    ]   non-wing drag coefficient                      \n",
      "             \\mu : [ 1.58      0.759     0.352     0.231    ]   dynamic viscosity                              \n",
      "         W_{pay} : [ 0.212     0.621     0.622     0.667    ]   Payload weight                                 \n",
      "      eng_{cnst} : [ 1.07      0.438     6.41e-09  8.13e-10 ]   engine constant based off of power weight model\n",
      "         R_{atm} : [ 0.788     0.379     0.176     0.116    ]                                                  \n",
      "          T_{sl} : [ 0.402     0.194     0.0899    0.059    ]   Temperature at sea level                       \n",
      "         L_{atm} : [ 0.386     0.186     0.0862    0.0566   ]   Temperature lapse rate                         \n",
      "         W_{min} : [ 1.72e-13  4.38e-11  0.202     0.217    ]   min engine weight                              \n",
      "         cl_{16} : [ 0.0885    0.0555    0.0284    0.0199   ]   profile stall coefficient                      \n",
      "          p_{sl} : [ -0.788    -0.379    -0.176    -0.116   ]   Pressure at sea level                          \n",
      "         M_{atm} : [ -0.788    -0.379    -0.176    -0.116   ]   Molar mass of dry air                          \n",
      "     \\eta_{prop} : [ -1.07     -0.438    -6.4e-09  -6.99e-10 ]  Propulsive efficiency                          \n",
      "          \\eta_t : [ -1.07     -0.438    -6.41e-09  -8.13e-10 ] percent throttle                               \n",
      "       R_{earth} : [ -0.848    -0.406    -0.149    -0.107   ]   Radius of earth                                \n",
      "               A : [ -12       -4.99     -2.18     -1.37    ]   aspect ratio                                   \n",
      "               e : [ -12.8     -5.37     -2.35     -1.49    ]   spanwise efficiency                            \n",
      "        h_{fuel} : [ -26.7     -11.6     -5.33     -3.4     ]   heat of combustion                             \n",
      "          \\eta_0 : [ -26.7     -11.6     -5.33     -3.4     ]   overall efficiency                             \n",
      "\n"
     ]
    }
   ],
   "source": [
    "from gas_hale import GasPoweredHALE\n",
    "import gpkit\n",
    "gpkit.settings['latex_modelname'] = False\n",
    "\n",
    "# to modify the GasPoweredHALE model, edit gas_hale.py\n",
    "\n",
    "m = GasPoweredHALE()\n",
    "sol = m.solve()"
   ]
  },
  {
   "cell_type": "code",
   "execution_count": 2,
   "metadata": {
    "collapsed": false
   },
   "outputs": [
    {
     "ename": "NameError",
     "evalue": "name 'sol' is not defined",
     "output_type": "error",
     "traceback": [
      "\u001b[1;31m---------------------------------------------------------------------------\u001b[0m",
      "\u001b[1;31mNameError\u001b[0m                                 Traceback (most recent call last)",
      "\u001b[1;32m<ipython-input-2-e2657ed4f003>\u001b[0m in \u001b[0;36m<module>\u001b[1;34m()\u001b[0m\n\u001b[1;32m----> 1\u001b[1;33m \u001b[0msol\u001b[0m\u001b[1;33m(\u001b[0m\u001b[1;34m'W_{fuel}'\u001b[0m\u001b[1;33m)\u001b[0m\u001b[1;33m/\u001b[0m\u001b[0msol\u001b[0m\u001b[1;33m(\u001b[0m\u001b[1;34m'W'\u001b[0m\u001b[1;33m)\u001b[0m\u001b[1;33m\u001b[0m\u001b[0m\n\u001b[0m",
      "\u001b[1;31mNameError\u001b[0m: name 'sol' is not defined"
     ]
    }
   ],
   "source": [
    "sol('W_{fuel}')/sol('W')"
   ]
  },
  {
   "cell_type": "code",
   "execution_count": 3,
   "metadata": {
    "collapsed": false
   },
   "outputs": [
    {
     "ename": "ImportError",
     "evalue": "Could not load MOSEK library: ImportError('No module named lib',)",
     "output_type": "error",
     "traceback": [
      "\u001b[1;31m---------------------------------------------------------------------------\u001b[0m",
      "\u001b[1;31mImportError\u001b[0m                               Traceback (most recent call last)",
      "\u001b[1;32m<ipython-input-3-8aacb1d07df5>\u001b[0m in \u001b[0;36m<module>\u001b[1;34m()\u001b[0m\n\u001b[0;32m      2\u001b[0m m.substitutions.update({\"t\": ('sweep', np.linspace(4, 10, 7)),\n\u001b[0;32m      3\u001b[0m                         \"V_{wind}\": ('sweep', np.linspace(10, 30, 5))})\n\u001b[1;32m----> 4\u001b[1;33m \u001b[0msol\u001b[0m \u001b[1;33m=\u001b[0m \u001b[0mm\u001b[0m\u001b[1;33m.\u001b[0m\u001b[0msolve\u001b[0m\u001b[1;33m(\u001b[0m\u001b[0msolver\u001b[0m\u001b[1;33m=\u001b[0m\u001b[1;34m\"mosek\"\u001b[0m\u001b[1;33m,\u001b[0m \u001b[0mverbosity\u001b[0m\u001b[1;33m=\u001b[0m\u001b[1;36m0\u001b[0m\u001b[1;33m,\u001b[0m \u001b[0mskipsweepfailures\u001b[0m\u001b[1;33m=\u001b[0m\u001b[0mTrue\u001b[0m\u001b[1;33m)\u001b[0m\u001b[1;33m\u001b[0m\u001b[0m\n\u001b[0m",
      "\u001b[1;32mC:\\Python27\\lib\\site-packages\\gpkit\\model.pyc\u001b[0m in \u001b[0;36msolve\u001b[1;34m(self, solver, verbosity, skipsweepfailures, *args, **kwargs)\u001b[0m\n\u001b[0;32m    340\u001b[0m         \u001b[1;32mtry\u001b[0m\u001b[1;33m:\u001b[0m\u001b[1;33m\u001b[0m\u001b[0m\n\u001b[0;32m    341\u001b[0m             return self._solve(\"gp\", solver, verbosity, skipsweepfailures,\n\u001b[1;32m--> 342\u001b[1;33m                                *args, **kwargs)\n\u001b[0m\u001b[0;32m    343\u001b[0m         \u001b[1;32mexcept\u001b[0m \u001b[0mValueError\u001b[0m \u001b[1;32mas\u001b[0m \u001b[0merr\u001b[0m\u001b[1;33m:\u001b[0m\u001b[1;33m\u001b[0m\u001b[0m\n\u001b[0;32m    344\u001b[0m             \u001b[1;32mif\u001b[0m \u001b[0merr\u001b[0m\u001b[1;33m.\u001b[0m\u001b[0mmessage\u001b[0m \u001b[1;33m==\u001b[0m \u001b[1;33m(\u001b[0m\u001b[1;34m\"GeometricPrograms cannot contain Signomials\"\u001b[0m\u001b[1;33m)\u001b[0m\u001b[1;33m:\u001b[0m\u001b[1;33m\u001b[0m\u001b[0m\n",
      "\u001b[1;32mC:\\Python27\\lib\\site-packages\\gpkit\\model.pyc\u001b[0m in \u001b[0;36m_solve\u001b[1;34m(self, programType, solver, verbosity, skipsweepfailures, *args, **kwargs)\u001b[0m\n\u001b[0;32m    476\u001b[0m \u001b[1;33m\u001b[0m\u001b[0m\n\u001b[0;32m    477\u001b[0m             \u001b[0mself\u001b[0m\u001b[1;33m.\u001b[0m\u001b[0mprogram\u001b[0m \u001b[1;33m=\u001b[0m \u001b[1;33m[\u001b[0m\u001b[1;33m]\u001b[0m\u001b[1;33m\u001b[0m\u001b[0m\n\u001b[1;32m--> 478\u001b[1;33m             \u001b[1;32mfor\u001b[0m \u001b[0mprogram\u001b[0m\u001b[1;33m,\u001b[0m \u001b[0mresult\u001b[0m \u001b[1;32min\u001b[0m \u001b[0mmapfn\u001b[0m\u001b[1;33m(\u001b[0m\u001b[0msolve_pass\u001b[0m\u001b[1;33m,\u001b[0m \u001b[0mrange\u001b[0m\u001b[1;33m(\u001b[0m\u001b[0mN_passes\u001b[0m\u001b[1;33m)\u001b[0m\u001b[1;33m)\u001b[0m\u001b[1;33m:\u001b[0m\u001b[1;33m\u001b[0m\u001b[0m\n\u001b[0m\u001b[0;32m    479\u001b[0m                 \u001b[0mself\u001b[0m\u001b[1;33m.\u001b[0m\u001b[0mprogram\u001b[0m\u001b[1;33m.\u001b[0m\u001b[0mappend\u001b[0m\u001b[1;33m(\u001b[0m\u001b[0mprogram\u001b[0m\u001b[1;33m)\u001b[0m  \u001b[1;31m# NOTE: SIDE EFFECTS\u001b[0m\u001b[1;33m\u001b[0m\u001b[0m\n\u001b[0;32m    480\u001b[0m                 \u001b[1;32mif\u001b[0m \u001b[0mresult\u001b[0m\u001b[1;33m:\u001b[0m  \u001b[1;31m# solve succeeded\u001b[0m\u001b[1;33m\u001b[0m\u001b[0m\n",
      "\u001b[1;32mC:\\Python27\\lib\\site-packages\\gpkit\\model.pyc\u001b[0m in \u001b[0;36msolve_pass\u001b[1;34m(i)\u001b[0m\n\u001b[0;32m    463\u001b[0m                                                 verbosity=verbosity)\n\u001b[0;32m    464\u001b[0m                 \u001b[1;32mtry\u001b[0m\u001b[1;33m:\u001b[0m\u001b[1;33m\u001b[0m\u001b[0m\n\u001b[1;32m--> 465\u001b[1;33m                     \u001b[0mresult\u001b[0m \u001b[1;33m=\u001b[0m \u001b[0msolvefn\u001b[0m\u001b[1;33m(\u001b[0m\u001b[1;33m*\u001b[0m\u001b[0margs\u001b[0m\u001b[1;33m,\u001b[0m \u001b[1;33m**\u001b[0m\u001b[0mkwargs\u001b[0m\u001b[1;33m)\u001b[0m\u001b[1;33m\u001b[0m\u001b[0m\n\u001b[0m\u001b[0;32m    466\u001b[0m                     sol = parse_result(result, constants_, beforesubs,\n\u001b[0;32m    467\u001b[0m                                        sweep, linkedsweep)\n",
      "\u001b[1;32mC:\\Python27\\lib\\site-packages\\gpkit\\geometric_program.pyc\u001b[0m in \u001b[0;36msolve\u001b[1;34m(self, solver, verbosity, *args, **kwargs)\u001b[0m\n\u001b[0;32m    120\u001b[0m             \u001b[0msolverfn\u001b[0m \u001b[1;33m=\u001b[0m \u001b[0mcli_expopt\u001b[0m\u001b[1;33m.\u001b[0m\u001b[0mimize_fn\u001b[0m\u001b[1;33m(\u001b[0m\u001b[1;33m*\u001b[0m\u001b[0margs\u001b[0m\u001b[1;33m,\u001b[0m \u001b[1;33m**\u001b[0m\u001b[0mkwargs\u001b[0m\u001b[1;33m)\u001b[0m\u001b[1;33m\u001b[0m\u001b[0m\n\u001b[0;32m    121\u001b[0m         \u001b[1;32melif\u001b[0m \u001b[0msolver\u001b[0m \u001b[1;33m==\u001b[0m \u001b[1;34m\"mosek\"\u001b[0m\u001b[1;33m:\u001b[0m\u001b[1;33m\u001b[0m\u001b[0m\n\u001b[1;32m--> 122\u001b[1;33m             \u001b[1;32mfrom\u001b[0m \u001b[1;33m.\u001b[0m\u001b[0m_mosek\u001b[0m \u001b[1;32mimport\u001b[0m \u001b[0mexpopt\u001b[0m\u001b[1;33m\u001b[0m\u001b[0m\n\u001b[0m\u001b[0;32m    123\u001b[0m             \u001b[0msolverfn\u001b[0m \u001b[1;33m=\u001b[0m \u001b[0mexpopt\u001b[0m\u001b[1;33m.\u001b[0m\u001b[0mimize\u001b[0m\u001b[1;33m\u001b[0m\u001b[0m\n\u001b[0;32m    124\u001b[0m         \u001b[1;32melif\u001b[0m \u001b[0mhasattr\u001b[0m\u001b[1;33m(\u001b[0m\u001b[0msolver\u001b[0m\u001b[1;33m,\u001b[0m \u001b[1;34m\"__call__\"\u001b[0m\u001b[1;33m)\u001b[0m\u001b[1;33m:\u001b[0m\u001b[1;33m\u001b[0m\u001b[0m\n",
      "\u001b[1;32mC:\\Python27\\lib\\site-packages\\gpkit\\_mosek\\expopt.py\u001b[0m in \u001b[0;36m<module>\u001b[1;34m()\u001b[0m\n\u001b[0;32m     20\u001b[0m     \u001b[1;32mfrom\u001b[0m \u001b[1;33m.\u001b[0m\u001b[0mlib\u001b[0m \u001b[1;32mimport\u001b[0m \u001b[0mexpopt_h\u001b[0m\u001b[1;33m\u001b[0m\u001b[0m\n\u001b[0;32m     21\u001b[0m \u001b[1;32mexcept\u001b[0m \u001b[0mException\u001b[0m \u001b[1;32mas\u001b[0m \u001b[0me\u001b[0m\u001b[1;33m:\u001b[0m\u001b[1;33m\u001b[0m\u001b[0m\n\u001b[1;32m---> 22\u001b[1;33m     \u001b[1;32mraise\u001b[0m \u001b[0mImportError\u001b[0m\u001b[1;33m(\u001b[0m\u001b[1;34m\"Could not load MOSEK library: \"\u001b[0m\u001b[1;33m+\u001b[0m\u001b[0mrepr\u001b[0m\u001b[1;33m(\u001b[0m\u001b[0me\u001b[0m\u001b[1;33m)\u001b[0m\u001b[1;33m)\u001b[0m\u001b[1;33m\u001b[0m\u001b[0m\n\u001b[0m\u001b[0;32m     23\u001b[0m \u001b[1;33m\u001b[0m\u001b[0m\n\u001b[0;32m     24\u001b[0m \u001b[1;33m\u001b[0m\u001b[0m\n",
      "\u001b[1;31mImportError\u001b[0m: Could not load MOSEK library: ImportError('No module named lib',)"
     ]
    }
   ],
   "source": [
    "import numpy as np\n",
    "m.substitutions.update({\"t\": ('sweep', np.linspace(4, 10, 7)),\n",
    "                        \"V_{wind}\": ('sweep', np.linspace(10, 30, 5))})\n",
    "sol = m.solve(solver=\"mosek\", verbosity=0, skipsweepfailures=True)"
   ]
  },
  {
   "cell_type": "code",
   "execution_count": 4,
   "metadata": {
    "collapsed": false,
    "scrolled": true
   },
   "outputs": [
    {
     "ename": "AttributeError",
     "evalue": "'GasPoweredHALE' object has no attribute 'solution'",
     "output_type": "error",
     "traceback": [
      "\u001b[1;31m---------------------------------------------------------------------------\u001b[0m",
      "\u001b[1;31mAttributeError\u001b[0m                            Traceback (most recent call last)",
      "\u001b[1;32m<ipython-input-4-b24632448528>\u001b[0m in \u001b[0;36m<module>\u001b[1;34m()\u001b[0m\n\u001b[0;32m      1\u001b[0m \u001b[0mget_ipython\u001b[0m\u001b[1;33m(\u001b[0m\u001b[1;33m)\u001b[0m\u001b[1;33m.\u001b[0m\u001b[0mmagic\u001b[0m\u001b[1;33m(\u001b[0m\u001b[1;34mu'matplotlib inline'\u001b[0m\u001b[1;33m)\u001b[0m\u001b[1;33m\u001b[0m\u001b[0m\n\u001b[0;32m      2\u001b[0m \u001b[1;32mfrom\u001b[0m \u001b[0mgpkit\u001b[0m\u001b[1;33m.\u001b[0m\u001b[0minteractive\u001b[0m\u001b[1;33m.\u001b[0m\u001b[0mplotting\u001b[0m \u001b[1;32mimport\u001b[0m \u001b[0mcontour_array\u001b[0m\u001b[1;33m\u001b[0m\u001b[0m\n\u001b[1;32m----> 3\u001b[1;33m \u001b[0m_\u001b[0m \u001b[1;33m=\u001b[0m \u001b[0mcontour_array\u001b[0m\u001b[1;33m(\u001b[0m\u001b[0mm\u001b[0m\u001b[1;33m,\u001b[0m \u001b[1;34m\"V_{min}\"\u001b[0m\u001b[1;33m,\u001b[0m \u001b[1;34m\"t\"\u001b[0m\u001b[1;33m,\u001b[0m \u001b[1;33m[\u001b[0m\u001b[1;34m\"W\"\u001b[0m\u001b[1;33m,\u001b[0m \u001b[1;34m\"S\"\u001b[0m\u001b[1;33m]\u001b[0m\u001b[1;33m)\u001b[0m\u001b[1;33m\u001b[0m\u001b[0m\n\u001b[0m",
      "\u001b[1;32mC:\\Python27\\lib\\site-packages\\gpkit\\interactive\\plotting.pyc\u001b[0m in \u001b[0;36mcontour_array\u001b[1;34m(model, X, Y, Zs, cellsize, nrows, ncols, xticks, yticks, colors)\u001b[0m\n\u001b[0;32m     32\u001b[0m                   xticks=None, yticks=None, colors=None):\n\u001b[0;32m     33\u001b[0m \u001b[1;33m\u001b[0m\u001b[0m\n\u001b[1;32m---> 34\u001b[1;33m     \u001b[0mdata\u001b[0m \u001b[1;33m=\u001b[0m \u001b[0mmodel\u001b[0m\u001b[1;33m.\u001b[0m\u001b[0msolution\u001b[0m\u001b[1;33m[\u001b[0m\u001b[1;34m\"variables\"\u001b[0m\u001b[1;33m]\u001b[0m\u001b[1;33m\u001b[0m\u001b[0m\n\u001b[0m\u001b[0;32m     35\u001b[0m     \u001b[0mn\u001b[0m \u001b[1;33m=\u001b[0m \u001b[0mlen\u001b[0m\u001b[1;33m(\u001b[0m\u001b[0mZs\u001b[0m\u001b[1;33m)\u001b[0m\u001b[1;33m\u001b[0m\u001b[0m\n\u001b[0;32m     36\u001b[0m     \u001b[1;32mif\u001b[0m \u001b[0mnrows\u001b[0m \u001b[1;32mis\u001b[0m \u001b[0mNone\u001b[0m\u001b[1;33m:\u001b[0m\u001b[1;33m\u001b[0m\u001b[0m\n",
      "\u001b[1;31mAttributeError\u001b[0m: 'GasPoweredHALE' object has no attribute 'solution'"
     ]
    }
   ],
   "source": [
    "%matplotlib inline\n",
    "from gpkit.interactive.plotting import contour_array\n",
    "_ = contour_array(m, \"V_{min}\", \"t\", [\"W\", \"S\"])"
   ]
  },
  {
   "cell_type": "code",
   "execution_count": 10,
   "metadata": {
    "collapsed": false
   },
   "outputs": [
    {
     "data": {
      "text/plain": [
       "<function update>"
      ]
     },
     "execution_count": 10,
     "metadata": {},
     "output_type": "execute_result"
    }
   ],
   "source": [
    "m.substitutions.update"
   ]
  },
  {
   "cell_type": "code",
   "execution_count": null,
   "metadata": {
    "collapsed": true
   },
   "outputs": [],
   "source": []
  }
 ],
 "metadata": {
  "kernelspec": {
   "display_name": "Python 2",
   "language": "python",
   "name": "python2"
  },
  "language_info": {
   "codemirror_mode": {
    "name": "ipython",
    "version": 2
   },
   "file_extension": ".py",
   "mimetype": "text/x-python",
   "name": "python",
   "nbconvert_exporter": "python",
   "pygments_lexer": "ipython2",
   "version": "2.7.10"
  }
 },
 "nbformat": 4,
 "nbformat_minor": 0
}
