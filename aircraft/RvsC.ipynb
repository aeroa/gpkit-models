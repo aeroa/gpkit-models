{
 "cells": [
  {
   "cell_type": "code",
   "execution_count": null,
   "metadata": {
    "collapsed": false
   },
   "outputs": [],
   "source": [
    "from gpkit import Model, Variable, units\n",
    "from gpkit.shortcuts import Var, Model\n",
    "from cost import DAPCA4Cost\n",
    "from breguet_range import BreguetRange\n",
    "\n",
    "class RvsC(Model):\n",
    "    def setup(self):\n",
    "        cost = DAPCA4Cost()\n",
    "        rng = BreguetRange()\n",
    "        \n",
    "        C_fly = cost[\"C_{fly}\"]\n",
    "        R = rng[\"R\"]\n",
    "        V = rng[\"V\"]\n",
    "        \n",
    "        R_min = Var(\"R_{min}\", 2000, \"nautical_miles\", \"Minimum Range\")\n",
    "        V_min = Var(\"V_{min}\", 420, \"knots\", \"Minimum Velocity\")\n",
    "        objective = C_fly # minimize cost\n",
    "        constraints = [R >= R_min,\n",
    "                       V >= V_min]\n",
    "        \n",
    "        model = Model(objective, constraints)\n",
    "\n",
    "        for subm in [cost, rng]:\n",
    "            model = model & subm\n",
    "            \n",
    "        return model\n",
    "    \n",
    "    def test(self):\n",
    "        self.solve(verbosity=0)\n",
    "    \n",
    "#print RvsC().solve(verbosity=0).table([\"cost\", \"freevariables\"])\n",
    "prob = RvsC()\n",
    "sol = prob.solve()\n"
   ]
  },
  {
   "cell_type": "code",
   "execution_count": null,
   "metadata": {
    "collapsed": false
   },
   "outputs": [],
   "source": [
    "import gpkit.interactive\n",
    "gpkit.interactive.showcadtoon(\"interactive/BlankMapLowRes\",\n",
    "                              \"position:absolute; height:0em; right:42em; top:42em;\")"
   ]
  },
  {
   "cell_type": "code",
   "execution_count": null,
   "metadata": {
    "collapsed": false
   },
   "outputs": [],
   "source": [
    "oldssubs = dict(prob.substitutions)"
   ]
  },
  {
   "cell_type": "code",
   "execution_count": null,
   "metadata": {
    "collapsed": false
   },
   "outputs": [],
   "source": [
    "from interactive import ractorpy_output\n",
    "# RANGES={'W_{payload}': (100, 900, 50),\n",
    "#         'T_{loiter}': (0.02, 10, (10-.02)/10.),\n",
    "#         'T_{reserve}': (5, 90, 10),\n",
    "#         'MTOW': (2500, 5000, 200),\n",
    "#         'M_{min-outbound}': (0.66, 0.87, .02),\n",
    "#         'cs': (0.1, 0.5, 0.02),\n",
    "#         'R_{min}': (500, 1000, 100)}\n",
    "# gpkit.interactive.ractorpy(prob, ractorpy_output, RANGES,\n",
    "#                            showtables=None)\n",
    "\n",
    "def fn_of_sol(sol):\n",
    "    print sol.table([\"cost\"])\n",
    "    ractorpy_output(sol)\n",
    "\n",
    "RANGES={'{R_{min}}_{RvsC}': (100,200,10)}\n",
    "gpkit.interactive.ractorpy(prob, ractorpy_output, None,\n",
    "                           showtables=None)"
   ]
  },
  {
   "cell_type": "code",
   "execution_count": null,
   "metadata": {
    "collapsed": false
   },
   "outputs": [],
   "source": [
    "prob.substitutions"
   ]
  },
  {
   "cell_type": "code",
   "execution_count": null,
   "metadata": {
    "collapsed": false
   },
   "outputs": [],
   "source": [
    "prob.solve()"
   ]
  },
  {
   "cell_type": "code",
   "execution_count": null,
   "metadata": {
    "collapsed": false
   },
   "outputs": [],
   "source": [
    "prob.substitutions = dict(oldssubs)\n",
    "prob.solve()"
   ]
  },
  {
   "cell_type": "code",
   "execution_count": null,
   "metadata": {
    "collapsed": false
   },
   "outputs": [],
   "source": [
    "% pylab inline\n",
    "RANGES={'R_{min}': (100,600,10)}\n",
    "from gpkit.interactive.plotting import sensitivity_plot\n",
    "_ = sensitivity_plot(prob, keys=RANGES)"
   ]
  }
 ],
 "metadata": {
  "kernelspec": {
   "display_name": "Python 2",
   "language": "python",
   "name": "python2"
  },
  "language_info": {
   "codemirror_mode": {
    "name": "ipython",
    "version": 2
   },
   "file_extension": ".py",
   "mimetype": "text/x-python",
   "name": "python",
   "nbconvert_exporter": "python",
   "pygments_lexer": "ipython2",
   "version": "2.7.10"
  }
 },
 "nbformat": 4,
 "nbformat_minor": 0
}
